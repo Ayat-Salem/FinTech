{
  "nbformat": 4,
  "nbformat_minor": 0,
  "metadata": {
    "colab": {
      "name": "A3W9.ipynb",
      "provenance": [],
      "authorship_tag": "ABX9TyM9NOD69Rnd2l+Y9WyPFWPI",
      "include_colab_link": true
    },
    "kernelspec": {
      "name": "python3",
      "display_name": "Python 3"
    },
    "language_info": {
      "name": "python"
    }
  },
  "cells": [
    {
      "cell_type": "markdown",
      "metadata": {
        "id": "view-in-github",
        "colab_type": "text"
      },
      "source": [
        "<a href=\"https://colab.research.google.com/github/Ayat-Salem/FinTech/blob/main/A3W9.ipynb\" target=\"_parent\"><img src=\"https://colab.research.google.com/assets/colab-badge.svg\" alt=\"Open In Colab\"/></a>"
      ]
    },
    {
      "cell_type": "code",
      "execution_count": 1,
      "metadata": {
        "id": "H4yB28yRvHQg"
      },
      "outputs": [],
      "source": [
        "import hashlib\n",
        "import json\n",
        "import time\n",
        "from typing import List"
      ]
    },
    {
      "cell_type": "code",
      "source": [
        "class Block():\n",
        "  def __init__(self,\n",
        "               index:int =0,\n",
        "               transactions:list=[],\n",
        "               timestamp:int=0,\n",
        "               cur_hash:str=\"\",\n",
        "               previous_hash:str=\"\",\n",
        "               nonce:int=0):\n",
        "    \n",
        "    self.index:int= index\n",
        "    self.transactions:list=transactions\n",
        "    self.timestamp =timestamp\n",
        "    self.hash:str=cur_hash\n",
        "    self.previous_hash:str=previous_hash\n",
        "    self.nonce:int=nonce\n",
        "\n",
        "    def compute_hash(self) -> str:\n",
        "      block_string = json.dumps(self.__dict__, sort_keys= True)\n",
        "      return hashlib.sha256(block_string.encode()).hexdigest()\n",
        "\n",
        "        "
      ],
      "metadata": {
        "id": "DOwjMSG-znck"
      },
      "execution_count": 2,
      "outputs": []
    },
    {
      "cell_type": "code",
      "source": [
        "tx_1 = {\n",
        "   \"addr_from\": \"3J98t1WpEZ73CNmQviecrnyiWrnqRhWNLy\",\n",
        "   \"addr_to\": \"1BvBMSEYstWetqTFn5Au4m4GFg7xJaNVN2\",   \n",
        "   \"amount\": 99.00\n",
        "}"
      ],
      "metadata": {
        "id": "FKMm7LjLGaup"
      },
      "execution_count": 3,
      "outputs": []
    },
    {
      "cell_type": "code",
      "source": [
        "class Blockchain:\n",
        "  def __init__(self):\n",
        "    pass"
      ],
      "metadata": {
        "id": "FvsjuPhUyxKf"
      },
      "execution_count": 4,
      "outputs": []
    },
    {
      "cell_type": "code",
      "source": [
        "class Blockchain:\n",
        "  def __init__(self):\n",
        "    self.unconfirmed_transactions = []\n",
        "    self.chain = []\n",
        "    self.difficulty = 2\n",
        "    self.create_genesis_block() "
      ],
      "metadata": {
        "id": "Bu5SomBizO4h"
      },
      "execution_count": 5,
      "outputs": []
    },
    {
      "cell_type": "code",
      "source": [
        "def create_genesis_block(self):\n",
        "  genesis_block = Block(index=0, transactions=[], timestamp=time.time(), previous_hash=\"0\") \n",
        "  genesis_block.hash = genesis_block.compute_hash()\n",
        "  self.chain.append(genesis_block)\n",
        "\n",
        "\n",
        "def get_last_block(self) -> Block: \n",
        "  return self.chain[-1]\n",
        "\n",
        "\n",
        "def proof_of_work(self, block:Block) -> str:\n",
        "  computed_hash = bolck.compute_hash()\n",
        "  while not computed_hash.startswith('0' * self.difficulty):\n",
        "    block.nonce += 1\n",
        "    computed_hash = block.compute_hash()\n",
        "  return computed_hash \n",
        "   \n",
        "\n",
        "def is_valid_proof(self, block:Block, block_hash:str) -> bool:\n",
        "     return block_hash.startswith('0' * self.difficulty) and block_hash == block.compute_hash()\n",
        "\n",
        "\n",
        "def add_block(self, block:Block, proof:str) -> bool:\n",
        "  last_block = self.get_last_block()\n",
        "  last_block.hash\n",
        "  \n",
        "  if last_block.hash != block.previous_hash:\n",
        "    return False\n",
        "  if not self.is_valid_proof(block, proof):\n",
        "    return False\n",
        "\n",
        "  block.hash =proof\n",
        "  self.chain.append(block)\n",
        "  return True\n",
        "\n",
        "\n",
        "def add_new_transaction(self, transaction:dict) -> None:\n",
        "      self.unconfirmed_transactions.append(transaction)\n",
        "\n",
        "def mine(self) -> int:\n",
        "      if len(self.unconfirmed_transactions)<1:\n",
        "        return -1\n",
        "      last_block = self.get_last_block()\n",
        "      self.unconfirmed_transactions.append(tx_1)\n",
        "\n",
        "      new_block= Block(index=last_block.index + 1,\n",
        "                       transactions=self.unconfirmed_transactions,\n",
        "                       timestamp=time.time(),\n",
        "                       previous_hash=last_block.hash)\n",
        "      \n",
        "      proof = self.proof_of_work(new_block)\n",
        "      self.add_block(new_block,proof)\n",
        "      self.unconfirmed_transactions=[]\n",
        "      return new_block.index\n"
      ],
      "metadata": {
        "id": "P-8OFck3zSWV"
      },
      "execution_count": 6,
      "outputs": []
    }
  ]
}